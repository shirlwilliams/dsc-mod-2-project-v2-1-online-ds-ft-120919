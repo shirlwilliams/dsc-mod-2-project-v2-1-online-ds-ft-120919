{
 "cells": [
  {
   "cell_type": "markdown",
   "metadata": {},
   "source": [
    "<h2> Modeling - Construct models to predict and forcast</h2>"
   ]
  },
  {
   "cell_type": "markdown",
   "metadata": {},
   "source": [
    "# Explore for initial models\n",
    "It stands to reason that size of the home should predict price but what else could improve our prediction and are there any other features that might improve our prediction. Let's explore the following:\n",
    "* What single feature is the best predictor of home price?\n",
    "* Are there any groups of features that increase this accuracy of this prediction?\n",
    "* Are there any other interesting associations?"
   ]
  },
  {
   "cell_type": "code",
   "execution_count": 1,
   "metadata": {},
   "outputs": [],
   "source": [
    "# Import statements\n",
    "import pandas as pd\n",
    "import numpy as np\n",
    "import seaborn as sns\n",
    "import matplotlib.pyplot as plt\n",
    "import scipy.stats as scs\n",
    "from scipy.stats import norm\n",
    "import statsmodels.api as sm\n",
    "import statsmodels.stats.api as sms\n",
    "from statsmodels.formula.api import ols\n",
    "plt.style.use('seaborn-colorblind')\n",
    "from IPython.core.interactiveshell import InteractiveShell\n",
    "InteractiveShell.ast_node_interactivity = \"all\"\n",
    "%matplotlib inline"
   ]
  },
  {
   "cell_type": "code",
   "execution_count": 2,
   "metadata": {},
   "outputs": [],
   "source": [
    "# Read in cleaned Kings County file \n",
    "df = pd.read_csv(\"cleaned_kings.csv\")\n",
    "df.head()"
   ]
  },
  {
   "cell_type": "markdown",
   "metadata": {},
   "source": [
    "## Searching for the Best Single Predictor\n",
    "What single feature predicts price the best? "
   ]
  },
  {
   "cell_type": "code",
   "execution_count": 3,
   "metadata": {
    "scrolled": true
   },
   "outputs": [],
   "source": [
    "# Interesting features\n",
    "features = df[['price','bedrooms','bathrooms','sqft_living','sqft_lot','floors','view','condition','grade',\n",
    "            'sqft_above','sqft_basement','yr_built','yr_renovated','sqft_living15','sqft_lot15']]\n",
    "features.head(2)"
   ]
  },
  {
   "cell_type": "markdown",
   "metadata": {},
   "source": [
    "### Split Features into Categorical and Continuous"
   ]
  },
  {
   "cell_type": "code",
   "execution_count": 4,
   "metadata": {},
   "outputs": [],
   "source": [
    "# Our initial target will be price\n",
    "price = df[['price']]\n",
    "print(price.head())\n",
    "\n",
    "# Continuous features will remain features\n",
    "features = df[['bedrooms','bathrooms','sqft_living','sqft_lot', 'sqft_above',\n",
    "               'sqft_basement','sqft_living15','sqft_lot15']]\n",
    "\n",
    "# Categorical features\n",
    "cat_features = df[['floors','view','condition','grade','yr_built','yr_renovated']]"
   ]
  },
  {
   "cell_type": "markdown",
   "metadata": {},
   "source": [
    "### Price vs Each Feature"
   ]
  },
  {
   "cell_type": "code",
   "execution_count": 5,
   "metadata": {},
   "outputs": [],
   "source": [
    "# Remove 1st two columns\n",
    "df = df.drop(columns=['Unnamed: 0', 'Unnamed: 0.1'])\n",
    "df.head()"
   ]
  },
  {
   "cell_type": "code",
   "execution_count": 6,
   "metadata": {},
   "outputs": [],
   "source": [
    "# Create the OLS model by looping through each feature and create a summary table\n",
    "summaries = []\n",
    "for feature in features:\n",
    "    d = {}\n",
    "    formula_str = 'price ~ ' + str(feature)\n",
    "    res = ols(formula=formula_str, data=features).fit()\n",
    "    # Make a summary chart\n",
    "    d['feature'] = feature\n",
    "    d['jb'],d['p'], d['sk'], d['kurt'] = sms.jarque_bera(res.resid)\n",
    "    d['r2'] = res.rsquared\n",
    "    summaries.append(d)\n",
    "    res.summary()"
   ]
  },
  {
   "cell_type": "markdown",
   "metadata": {},
   "source": [
    "### Summary Chart"
   ]
  },
  {
   "cell_type": "code",
   "execution_count": 7,
   "metadata": {},
   "outputs": [],
   "source": [
    "summaries_df = pd.DataFrame(summaries)\n",
    "summaries_df.head()"
   ]
  },
  {
   "cell_type": "markdown",
   "metadata": {},
   "source": [
    "#### Regression Observations\n",
    "* sqft_living has the best rsquared value when \n",
    "\n"
   ]
  },
  {
   "cell_type": "code",
   "execution_count": 8,
   "metadata": {},
   "outputs": [],
   "source": [
    "# regression for categorical variabes\n",
    "for feature in cat_features:\n",
    "    formula_str = 'price ~ ' + str(feature)\n",
    "    mod = ols(formula=formula_str, data=cat_features)\n",
    "    res = mod.fit()\n",
    "     # Make a summary chart\n",
    "    d['feature'] = feature\n",
    "    d['jb'],d['p'], d['sk'], d['kurt'] = sms.jarque_bera(res.resid)\n",
    "    d['r2'] = res.rsquared\n",
    "    summaries.append(d)\n",
    "    res.summary()"
   ]
  },
  {
   "cell_type": "markdown",
   "metadata": {},
   "source": [
    "## Price versus sqft_living  without outliers"
   ]
  },
  {
   "cell_type": "code",
   "execution_count": 9,
   "metadata": {},
   "outputs": [],
   "source": [
    "summaries = pd.DataFrame(summaries)\n",
    "summaries"
   ]
  },
  {
   "cell_type": "markdown",
   "metadata": {},
   "source": [
    "### Sqft Living: Find and remove outliers for better predictive values"
   ]
  },
  {
   "cell_type": "code",
   "execution_count": 10,
   "metadata": {},
   "outputs": [],
   "source": [
    "# Calculate the sqft_living limit for outliers using 1.5 * IQR + Q3\n",
    "Q1 = features['sqft_living'].quantile(0.25)\n",
    "Q3 = features['sqft_living'].quantile(0.75)\n",
    "IQR = Q3 - Q1\n",
    "limit = 1.5 * IQR + Q3\n",
    "limit"
   ]
  },
  {
   "cell_type": "code",
   "execution_count": 11,
   "metadata": {},
   "outputs": [],
   "source": [
    "# Remove upper outliers from sqft_living and create histogram again\n",
    "norm_sqft_living = features[features['sqft_living'] < limit]\n",
    "norm_sqft_living.head(2)\n",
    "\n",
    "# Histogram (distplot)\n",
    "sns.distplot(norm_sqft_living['sqft_living'], color='crimson', label=norm_sqft_living, fit=norm, kde=False)\n",
    "plt.title('Sqft living (without upper outliers)')\n",
    "plt.show()\n",
    "print(len(norm_sqft_living), len(features))"
   ]
  },
  {
   "cell_type": "code",
   "execution_count": 12,
   "metadata": {},
   "outputs": [],
   "source": [
    "# Remove upper outliers from sqft_lot and create histogram again\n",
    "norm_price_sqft_living = norm_sqft_living[norm_sqft_living['price'] < limit]\n",
    "\n",
    "# Histogram (distplot)\n",
    "sns.distplot(norm_price_sqft_living['price'], color='darkorchid', label=norm_sqft_living, fit=norm, kde=False)\n",
    "plt.title('Price using Sqft living (without price outliers)')\n",
    "plt.show()\n",
    "print(len(norm_price_sqft_living), len(features))"
   ]
  },
  {
   "cell_type": "markdown",
   "metadata": {},
   "source": [
    "### Model Price to Sqft Living"
   ]
  },
  {
   "cell_type": "markdown",
   "metadata": {},
   "source": [
    "#### Create the prediction regression model"
   ]
  },
  {
   "cell_type": "code",
   "execution_count": 13,
   "metadata": {},
   "outputs": [],
   "source": [
    "# Regression Model\n",
    "X = norm_sqft_living[\"price\"] \n",
    "y = norm_sqft_living['sqft_living']\n",
    "\n",
    "model = sm.OLS(y, X).fit()\n",
    "predictions = model.predict(X)"
   ]
  },
  {
   "cell_type": "code",
   "execution_count": 14,
   "metadata": {},
   "outputs": [],
   "source": [
    "# plot the observed data and the least squares line\n",
    "norm_sqft_living.plot(kind='scatter', x='price', y='sqft_living', figsize=(8,5), label='values', color='pink') \n",
    "plt.plot(X, predictions, c='red', linewidth=2, label='prediction') \n",
    "plt.title('Prediction of Price by Sqft Living')\n",
    "plt.legend()\n",
    "plt.show()"
   ]
  },
  {
   "cell_type": "markdown",
   "metadata": {},
   "source": [
    "#### Visual Relationship of Price to Normed Sqft Living"
   ]
  },
  {
   "cell_type": "markdown",
   "metadata": {},
   "source": [
    "### Price Outliers Removed"
   ]
  },
  {
   "cell_type": "markdown",
   "metadata": {},
   "source": [
    "### Price vs sqft_living without outliers observations\n",
    "\n",
    "Comparison with and without outliers\n",
    "* p-values still 0\n",
    "* Skew improved from 2.8 to 2\n",
    "* Kurtosis improved from 26.97 to 13.8\n",
    "* JB improved from 1146871.98 to 541541.2\n",
    "* R2 improved from .492 to .393\n",
    "\n",
    "Still doesn't seem to be a great predictor\n"
   ]
  },
  {
   "cell_type": "code",
   "execution_count": 15,
   "metadata": {},
   "outputs": [],
   "source": [
    "mod = ols(formula='price ~ sqft_living', data=norm_sqft_living)\n",
    "res = mod.fit()\n",
    "res.summary()"
   ]
  },
  {
   "cell_type": "markdown",
   "metadata": {},
   "source": [
    "#### The Price and Sqft_Living data sets are normal"
   ]
  },
  {
   "cell_type": "code",
   "execution_count": 16,
   "metadata": {
    "scrolled": true
   },
   "outputs": [],
   "source": [
    "# The shapiro test will confirm the data sets are normal\n",
    "scs.shapiro(norm_price_sqft_living.price), scs.shapiro(norm_price_sqft_living.sqft_living)"
   ]
  },
  {
   "cell_type": "markdown",
   "metadata": {},
   "source": [
    "#### Notice: Condition warning \n",
    "* The Condition number is large indicating numerical problems.\n",
    "* I will use this study as a base model and continue to add features or change the model to improve its predictive properties."
   ]
  },
  {
   "cell_type": "markdown",
   "metadata": {},
   "source": [
    "#### Predictive regression model  with outliers removed for both price and sqft_living"
   ]
  },
  {
   "cell_type": "code",
   "execution_count": 17,
   "metadata": {},
   "outputs": [],
   "source": [
    "# Regression Model\n",
    "X = norm_price_sqft_living[\"price\"] \n",
    "y = norm_price_sqft_living['sqft_living']\n",
    "\n",
    "model = sm.OLS(y, X).fit()\n",
    "predictions = model.predict(X)"
   ]
  },
  {
   "cell_type": "code",
   "execution_count": 18,
   "metadata": {
    "scrolled": true
   },
   "outputs": [],
   "source": [
    "mod = ols(formula='price ~ sqft_living', data=norm_features)\n",
    "res = mod.fit()\n",
    "res.summary()"
   ]
  },
  {
   "cell_type": "code",
   "execution_count": 19,
   "metadata": {},
   "outputs": [],
   "source": [
    "# plot the observed data and the least squares line\n",
    "norm_sqft_living.plot(kind='scatter', x='price', y='sqft_living', figsize=(8,5), label='values', color='mediumpurple') \n",
    "plt.plot(X, predictions, c='red', linewidth=2, label='prediction') \n",
    "plt.title('Prediction of Price by Sqft Living')\n",
    "plt.legend()\n",
    "plt.show()"
   ]
  },
  {
   "cell_type": "markdown",
   "metadata": {},
   "source": [
    "### Observations of Price vs Squarefoot Living \n",
    "* This model is only a fair predictor as it is cone shaped and loses its predictive value as the price of the homes increases.\n",
    "* A search should continue to see if a better model can be created."
   ]
  },
  {
   "cell_type": "code",
   "execution_count": 20,
   "metadata": {},
   "outputs": [],
   "source": [
    "JB, pval, skew, kurtosis = sms.jarque_bera(res.resid)\n",
    "rsquared = res.rsquared\n",
    "\n",
    "summary_stats = \"price to sqft_living gives JB: {:.2f}, pval: {:.2f}, skew: {:.2f}, kurtosis: {:.2f}, rsquared: {:.2f}\".format(JB,pval,skew,kurtosis,rsquared)\n",
    "summary_stats        "
   ]
  },
  {
   "cell_type": "markdown",
   "metadata": {},
   "source": [
    "### price to sqft_living statistics:\n",
    "JB: 923.08, pval: 0.00, skew: 0.52, kurtosis: 3.10, rsquared: 0.36"
   ]
  },
  {
   "cell_type": "markdown",
   "metadata": {},
   "source": [
    "### Outliers Removed - norm_features\n",
    "Since we had a better predictive model with outliers removed for price and square feet, I will now make it the cleaned version for all future models."
   ]
  },
  {
   "cell_type": "code",
   "execution_count": 21,
   "metadata": {},
   "outputs": [],
   "source": [
    "# norm_price_sqft_living will become norm_features\n",
    "norm_features = norm_price_sqft_living"
   ]
  },
  {
   "cell_type": "markdown",
   "metadata": {},
   "source": [
    "## Price predicted by grade and sqft_living\n",
    "Square foot of the living space is always an inportant value when determining the price of a home but will other features help to make a better predictive model? I would like to investigate grade since it had a high correlation initially to price."
   ]
  },
  {
   "cell_type": "code",
   "execution_count": 22,
   "metadata": {},
   "outputs": [],
   "source": [
    "##"
   ]
  },
  {
   "cell_type": "code",
   "execution_count": null,
   "metadata": {},
   "outputs": [],
   "source": []
  },
  {
   "cell_type": "code",
   "execution_count": null,
   "metadata": {},
   "outputs": [],
   "source": []
  },
  {
   "cell_type": "code",
   "execution_count": 23,
   "metadata": {},
   "outputs": [],
   "source": [
    "mod = ols(formula='price ~ sqft_living + grade', data=norm_features)\n",
    "res = mod.fit()\n",
    "res.summary()"
   ]
  },
  {
   "cell_type": "code",
   "execution_count": 24,
   "metadata": {},
   "outputs": [],
   "source": [
    "JB, pval, skew, kurtosis = sms.jarque_bera(res.resid)\n",
    "rsquared = res.rsquared\n",
    "\n",
    "summary_stats = \"price to sqft_living gives JB: {:.2f}, pval: {:.2f}, skew: {:.2f}, kurtosis: {:.2f}, rsquared: {:.2f}\".format(JB,pval,skew,kurtosis,rsquared)\n",
    "summary_stats "
   ]
  },
  {
   "cell_type": "markdown",
   "metadata": {},
   "source": [
    "### Indications are there may be some multicollinearity going on even though p-values look good\n",
    "Will remove values to see if anything improves"
   ]
  },
  {
   "cell_type": "code",
   "execution_count": 25,
   "metadata": {},
   "outputs": [],
   "source": [
    "VIF = 1 / (1 - 0.507)\n",
    "VIF"
   ]
  },
  {
   "cell_type": "markdown",
   "metadata": {},
   "source": [
    "The VIF score indicates the selected features are moderately correlated.\n",
    "There is slight skew and high kurtosis.\n",
    "The Jarque-Bera value is high indicating there may be some multicollinearity>"
   ]
  },
  {
   "cell_type": "code",
   "execution_count": null,
   "metadata": {},
   "outputs": [],
   "source": []
  }
 ],
 "metadata": {
  "kernelspec": {
   "display_name": "Python [conda env:learn-env] *",
   "language": "python",
   "name": "conda-env-learn-env-py"
  },
  "language_info": {
   "codemirror_mode": {
    "name": "ipython",
    "version": 3
   },
   "file_extension": ".py",
   "mimetype": "text/x-python",
   "name": "python",
   "nbconvert_exporter": "python",
   "pygments_lexer": "ipython3",
   "version": "3.6.9"
  },
  "toc": {
   "base_numbering": 1,
   "nav_menu": {},
   "number_sections": true,
   "sideBar": true,
   "skip_h1_title": false,
   "title_cell": "Table of Contents",
   "title_sidebar": "Contents",
   "toc_cell": false,
   "toc_position": {},
   "toc_section_display": true,
   "toc_window_display": true
  }
 },
 "nbformat": 4,
 "nbformat_minor": 2
}
