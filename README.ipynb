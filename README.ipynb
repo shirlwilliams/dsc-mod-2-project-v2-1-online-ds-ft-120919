{
 "cells": [
  {
   "cell_type": "markdown",
   "metadata": {},
   "source": [
    "<span style=\"font-size:24pt; font-weight:bold\">Module 2 Project: King County Homes</span><br>\n",
    "\n",
    "<br><center><h3>The focus for this project was higher priced homes in King County, Washington.</h3><br>\n",
    "King County has the distinction of the only county in the United States named for Dr. Martin Luther King, Jr.\n",
    "\n",
    "<img src=\"images/KingCounty.png\" align=\"center\"/><br>\n"
   ]
  },
  {
   "cell_type": "markdown",
   "metadata": {},
   "source": [
    "<details><summary><span style=\"font-size:18pt; font-weight:bold\">Outline</span><br></summary>\n",
    "    \n",
    "* Overview and Goals\n",
    "* Scrub\n",
    "* EDA\n",
    "* Distance from Seattle\n",
    "* Model\n",
    "* Interesting Features\n",
    "* Conclusion\n",
    "</details>"
   ]
  },
  {
   "cell_type": "markdown",
   "metadata": {},
   "source": [
    "<details><summary><span style=\"font-size:18pt; font-weight:bold\">Overview and Goals</span><br>\n",
    "&emsp;This project required an assessment of high-end homes in King County Washington through data exploration.<br></summary>\n",
    "    \n",
    "## Goals\n",
    "The overall goal of this project is to find useful insights while practicing exploratory data analysis. \n",
    "Our premise is to investigate the available data to assist Lifestyles Inc., high-end purchasing assistants, with data on higher priced homes. \n",
    "    \n",
    "Dataset provided for exploration: kc_house_data.csv\n",
    "\n",
    "</details>\n"
   ]
  },
  {
   "cell_type": "markdown",
   "metadata": {},
   "source": [
    "<details><summary><span style=\"font-size:18pt; font-weight:bold\">Scrub</span><br>\n",
    "&emsp;Clean the King County homes dataset.<br></summary>\n",
    "    \n",
    "## Initial Data Observations and Treatments\n",
    "* Several sets of categorical data : waterfront (binary), view, condition, grade, zip code\n",
    "* Removed NAs by changing them to 0s, keeping in mind these placeholders will affect analysis\n",
    "* Changed '?' to 0s\n",
    "* Formatted the date as mm/dd/yyyy without time stamps (affected duplicates)\n",
    "* Removed < 10 duplicate rows\n",
    "\n",
    "</details>"
   ]
  },
  {
   "cell_type": "markdown",
   "metadata": {},
   "source": [
    "<details><summary><span style=\"font-size:18pt; font-weight:bold\">EDA</span><br>\n",
    "&emsp;Analyze the King County homes dataset.<br></summary>\n",
    "    \n",
    "## Observations\n",
    "* Price had significant outliers in higher priced homes. However, since the focus was on higher priced homes, these outliers were kept.<br>\n",
    "\n",
    "<img src=\"images/price_outliers.png\" alt='boxplot of home prices showing outliers'/><br>\n",
    "\n",
    "* Using descriptive statistics Q3 was found and a dataframe was created with the upper 25% of home prices.<br>\n",
    "\n",
    "<img src=\"images/home-loc.png\" alt='locations of higher priced homes'/>\n",
    "<img src=\"images/home_summary.jpg\" alt=\"summary data chart\" align=\"center\" width=500/><br>\n",
    "\n",
    "### Interesting features from pairwise plot\n",
    "\n",
    "<img src=\"images/pairwise-plot.png\" alt=\"pairwise plot\" align=\"center\"/><br>\n",
    "\n",
    "* Categorical data values:  bedrooms, floors, waterfront, view, condition, grade, and not as obvious bathrooms.\n",
    "* Binary features: waterfront\n",
    "* Features with too many '0' values: yr_renovated, sqft_basement, view, and waterfront\n",
    "* Significantly skewed features: sqft_lot15, yr_built, sqft_basement, and price\n",
    "* Zip Code and grade have two distinct sections: zip (980XX and 981XX), grade (bimodal with few values in the middle at 5 & 6)\n",
    "* Somewhat linear relationships with price: sqft_living and sqft_above\n",
    "* sqft_above and sqft_living are highly correlated to each other - may present collinearity\n",
    "* Other interesting features: bathroom and grade\n",
    "\n",
    "</details>"
   ]
  },
  {
   "cell_type": "markdown",
   "metadata": {},
   "source": [
    "<details><summary><span style=\"font-size:18pt; font-weight:bold\">Distance from Seattle</span><br>\n",
    "&emsp;Analyze the price of homes compared to the distance from Seattle.<br></summary>\n",
    "    \n",
    "## Distance from downtown jobs and activities\n",
    "<br>\n",
    "<img src=\"images/distance-price-grade.png\" alt='scatter plot of homes by distance from Seattle'/><br>\n",
    "\n",
    "* Note the highest priced homes are the closest to Seattle <br>\n",
    "* Although not normally distributed, there seems to be a linear relationship with distance\n",
    "<img src=\"images/distance-plot-regression.png\" alt='distance plot with regression line'/>\n",
    "\n",
    "### Visual representation of Distance relationship\n",
    "note further exploration\n",
    "* linear regression plot implies a linear relationship\n",
    "* the distplot shows a somewhat normal distribution\n",
    "* the correlation heatmap shows <b>no</b> significant correlation with price\n",
    "\n",
    "</details>"
   ]
  },
  {
   "cell_type": "markdown",
   "metadata": {},
   "source": [
    "<details><summary><span style=\"font-size:18pt; font-weight:bold\">Model</span><br>\n",
    "&emsp;Analyze features to predict price of King County homes.<br></summary>\n",
    "    \n",
    "# Modeling\n",
    "* Using a cross validation function a baseline was created.\n",
    "* A pairwise comparison function determined the following key combinations to explore:\n",
    "    * sqft_living and grade\n",
    "    * sqft_living and distance\n",
    "    * bathrooms and grade\n",
    "<br>\n",
    "\n",
    "<img src=\"images/Pairwise-OLS-Regression-Summary.png\" alt='pairwise comparison summary' align=\"center\"/><br>\n",
    "\n",
    "* Note the highest priced homes are the closest to Seattle <br>\n",
    "* Although not normally distributed, there seems to be a linear relationship with distance<br><br>\n",
    "<img src=\"images/distance-plot-regression.png\" alt='distance plot with regression line'/>\n",
    "\n",
    "</details>"
   ]
  },
  {
   "cell_type": "code",
   "execution_count": null,
   "metadata": {},
   "outputs": [],
   "source": []
  }
 ],
 "metadata": {
  "kernelspec": {
   "display_name": "Python [conda env:learn-env] *",
   "language": "python",
   "name": "conda-env-learn-env-py"
  },
  "language_info": {
   "codemirror_mode": {
    "name": "ipython",
    "version": 3
   },
   "file_extension": ".py",
   "mimetype": "text/x-python",
   "name": "python",
   "nbconvert_exporter": "python",
   "pygments_lexer": "ipython3",
   "version": "3.6.9"
  },
  "toc": {
   "base_numbering": 1,
   "nav_menu": {},
   "number_sections": true,
   "sideBar": true,
   "skip_h1_title": false,
   "title_cell": "Table of Contents",
   "title_sidebar": "Contents",
   "toc_cell": false,
   "toc_position": {},
   "toc_section_display": true,
   "toc_window_display": false
  }
 },
 "nbformat": 4,
 "nbformat_minor": 2
}
